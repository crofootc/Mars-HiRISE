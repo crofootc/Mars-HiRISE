{
 "cells": [
  {
   "cell_type": "code",
   "execution_count": 1,
   "id": "0eab527e-e6eb-4e2b-8a5e-403380f86c38",
   "metadata": {},
   "outputs": [],
   "source": [
    "import numpy as np\n",
    "import pandas as pd\n",
    "from PIL import Image\n",
    "import matplotlib.pyplot as plt\n",
    "import os.path"
   ]
  },
  {
   "cell_type": "code",
   "execution_count": 2,
   "id": "ee8af3d5-d16f-43fb-8a52-0a860f4c9bc9",
   "metadata": {},
   "outputs": [],
   "source": [
    "filepath_a = r\"C:\\Users\\cdcro\\Documents\\GT\\Project\\Mars\\hirise-map-proj-v3\\map-proj-v3\"\n",
    "datamap_a = r\"C:\\Users\\cdcro\\Documents\\GT\\Project\\Mars\\hirise-map-proj-v3\\labels-map-proj-v3.txt\"\n",
    "datamap_a = pd.read_csv(datamap_a, delimiter=\" \", header=None)\n",
    "datamap_a = datamap_a.rename(columns = {0: \"File Name\", 1: \"Class\"}) \n",
    "\n",
    "filepath_b = r\"C:\\Users\\cdcro\\Documents\\GT\\Project\\Mars\\hirise-map-proj-v3_2\\hirise-map-proj-v3_2\\map-proj-v3_2\"\n",
    "datamap_b = r\"C:\\Users\\cdcro\\Documents\\GT\\Project\\Mars\\hirise-map-proj-v3_2\\hirise-map-proj-v3_2\\labels-map-proj_v3_2_train_val_test.txt\"\n",
    "datamap_b = pd.read_csv(datamap_b, delimiter=\" \", header=None)\n",
    "datamap_b = datamap_b.rename(columns = {0: \"File Name\", 1: \"Class\", 2: \"label\"}) "
   ]
  },
  {
   "cell_type": "code",
   "execution_count": 3,
   "id": "01a5e078-d051-4c27-9090-54f5985b4542",
   "metadata": {},
   "outputs": [
    {
     "name": "stdout",
     "output_type": "stream",
     "text": [
      "v3\n",
      "Number of photos: 7495\n",
      "Sample: ESP_011283_2265_RED-0030-r180.jpg\n",
      "\n",
      "v3 datamap\n",
      "Number of labeled photos referenced in text file: 73031\n",
      "Sample: File Name    ESP_011623_2100_RED-0069.jpg\n",
      "Class                                   0\n",
      "Name: 0, dtype: object\n",
      "\n",
      "Count of data_a items in text file: 7495\n",
      "Items from data_a not found in text file: 0\n",
      "\n",
      "Count of datamap items in data_a: 7495\n",
      "Items from datamap not found in data_A file: 65536\n",
      "Percent of promised photos: 0.1026276512713779\n"
     ]
    }
   ],
   "source": [
    "##########\n",
    "#   V3   #\n",
    "##########\n",
    "\n",
    "data_a = os.listdir(filepath_a)\n",
    "\n",
    "print(\"v3\")\n",
    "print(\"Number of photos:\", len(data_a))\n",
    "print(\"Sample:\", data_a[0])\n",
    "\n",
    "print()\n",
    "print(\"v3 datamap\")\n",
    "print(\"Number of labeled photos referenced in text file:\", len(datamap_a)) \n",
    "print(\"Sample:\", datamap_a.iloc[0])\n",
    "\n",
    "print()\n",
    "tmp = datamap_a['File Name'].tolist() \n",
    "count = 0\n",
    "not_found = 0\n",
    "\n",
    "for item in data_a:\n",
    "    if item in tmp:\n",
    "        count += 1\n",
    "    else:\n",
    "        not_found += 1\n",
    "print(\"Count of data_a items in text file:\", count)\n",
    "print(\"Items from data_a not found in text file:\", not_found)\n",
    "\n",
    "print()\n",
    "count = 0\n",
    "not_found = 0\n",
    "\n",
    "for item in tmp:\n",
    "    if item in data_a:\n",
    "        count += 1\n",
    "    else:\n",
    "        not_found += 1\n",
    "print(\"Count of datamap items in data_a:\", count)\n",
    "print(\"Items from datamap not found in data_A file:\", not_found)\n",
    "print(\"Percent of promised photos:\", count/(not_found+count))"
   ]
  },
  {
   "cell_type": "code",
   "execution_count": 4,
   "id": "8beb0a60-9d3d-4ccc-bb59-4eab386ee64a",
   "metadata": {},
   "outputs": [
    {
     "name": "stdout",
     "output_type": "stream",
     "text": [
      "v3_2\n",
      "Number of photos: 32182\n",
      "Sample: ESP_011283_2265_RED-0013-fv.jpg\n",
      "\n",
      "v3_2 datamap\n",
      "Number of labeled photos referenced in text file: 73031\n",
      "Sample: File Name    ESP_011623_2100_RED-0069.jpg\n",
      "Class                                   0\n",
      "Name: 0, dtype: object\n",
      "\n",
      "Count of data_b items in text file: 32182\n",
      "Items from data_b not found in text file: 0\n",
      "\n",
      "Count of datamap items in data_b: 33630\n",
      "Items from datamap not found in data_b file: 34180\n",
      "Percent of promised photos: 0.4959445509511871\n"
     ]
    }
   ],
   "source": [
    "########\n",
    "# V3_2 #\n",
    "########\n",
    "\n",
    "data_b = os.listdir(filepath_b)\n",
    "\n",
    "print(\"v3_2\")\n",
    "print(\"Number of photos:\", len(data_b))\n",
    "print(\"Sample:\", data_b[0])\n",
    "\n",
    "print()\n",
    "print(\"v3_2 datamap\")\n",
    "print(\"Number of labeled photos referenced in text file:\", len(datamap_a)) \n",
    "print(\"Sample:\", datamap_a.iloc[0])\n",
    "\n",
    "print()\n",
    "tmp = datamap_b['File Name'].tolist() \n",
    "count = 0\n",
    "not_found = 0\n",
    "\n",
    "for item in data_b:\n",
    "    if item in tmp:\n",
    "        count += 1\n",
    "    else:\n",
    "        not_found += 1\n",
    "print(\"Count of data_b items in text file:\", count)\n",
    "print(\"Items from data_b not found in text file:\", not_found)\n",
    "\n",
    "print()\n",
    "count = 0\n",
    "not_found = 0\n",
    "\n",
    "idx = []\n",
    "for item in datamap_b['File Name']:\n",
    "    if item in data_b:\n",
    "        count += 1\n",
    "    else:\n",
    "        not_found += 1\n",
    "print(\"Count of datamap items in data_b:\", count)\n",
    "print(\"Items from datamap not found in data_b file:\", not_found)\n",
    "print(\"Percent of promised photos:\", count/(not_found+count))"
   ]
  },
  {
   "cell_type": "code",
   "execution_count": 12,
   "id": "1f6d439b-5c1b-4e1e-ae2c-a9970a5c8474",
   "metadata": {},
   "outputs": [
    {
     "ename": "KeyboardInterrupt",
     "evalue": "",
     "output_type": "error",
     "traceback": [
      "\u001b[1;31m---------------------------------------------------------------------------\u001b[0m",
      "\u001b[1;31mKeyboardInterrupt\u001b[0m                         Traceback (most recent call last)",
      "\u001b[1;32m~\\AppData\\Local\\Temp/ipykernel_15312/2415598181.py\u001b[0m in \u001b[0;36m<module>\u001b[1;34m\u001b[0m\n\u001b[0;32m      5\u001b[0m \u001b[1;32mfor\u001b[0m \u001b[0mi\u001b[0m\u001b[1;33m,\u001b[0m \u001b[0mrow\u001b[0m \u001b[1;32min\u001b[0m \u001b[0mdatamap_b\u001b[0m\u001b[1;33m.\u001b[0m\u001b[0miterrows\u001b[0m\u001b[1;33m(\u001b[0m\u001b[1;33m)\u001b[0m\u001b[1;33m:\u001b[0m\u001b[1;33m\u001b[0m\u001b[1;33m\u001b[0m\u001b[0m\n\u001b[0;32m      6\u001b[0m     \u001b[1;32mif\u001b[0m \u001b[0mrow\u001b[0m\u001b[1;33m[\u001b[0m\u001b[1;34m'File Name'\u001b[0m\u001b[1;33m]\u001b[0m \u001b[1;32min\u001b[0m \u001b[0mdata_b\u001b[0m\u001b[1;33m:\u001b[0m\u001b[1;33m\u001b[0m\u001b[1;33m\u001b[0m\u001b[0m\n\u001b[1;32m----> 7\u001b[1;33m         \u001b[0mdatamap_b\u001b[0m\u001b[1;33m.\u001b[0m\u001b[0mloc\u001b[0m\u001b[1;33m[\u001b[0m\u001b[0mi\u001b[0m\u001b[1;33m,\u001b[0m\u001b[1;33m[\u001b[0m\u001b[1;34m'PhotoIncluded'\u001b[0m\u001b[1;33m]\u001b[0m\u001b[1;33m]\u001b[0m\u001b[1;33m=\u001b[0m \u001b[1;36m1\u001b[0m\u001b[1;33m\u001b[0m\u001b[1;33m\u001b[0m\u001b[0m\n\u001b[0m",
      "\u001b[1;32m~\\anaconda3\\lib\\site-packages\\pandas\\core\\indexing.py\u001b[0m in \u001b[0;36m__setitem__\u001b[1;34m(self, key, value)\u001b[0m\n\u001b[0;32m    721\u001b[0m \u001b[1;33m\u001b[0m\u001b[0m\n\u001b[0;32m    722\u001b[0m         \u001b[0miloc\u001b[0m \u001b[1;33m=\u001b[0m \u001b[0mself\u001b[0m \u001b[1;32mif\u001b[0m \u001b[0mself\u001b[0m\u001b[1;33m.\u001b[0m\u001b[0mname\u001b[0m \u001b[1;33m==\u001b[0m \u001b[1;34m\"iloc\"\u001b[0m \u001b[1;32melse\u001b[0m \u001b[0mself\u001b[0m\u001b[1;33m.\u001b[0m\u001b[0mobj\u001b[0m\u001b[1;33m.\u001b[0m\u001b[0miloc\u001b[0m\u001b[1;33m\u001b[0m\u001b[1;33m\u001b[0m\u001b[0m\n\u001b[1;32m--> 723\u001b[1;33m         \u001b[0miloc\u001b[0m\u001b[1;33m.\u001b[0m\u001b[0m_setitem_with_indexer\u001b[0m\u001b[1;33m(\u001b[0m\u001b[0mindexer\u001b[0m\u001b[1;33m,\u001b[0m \u001b[0mvalue\u001b[0m\u001b[1;33m,\u001b[0m \u001b[0mself\u001b[0m\u001b[1;33m.\u001b[0m\u001b[0mname\u001b[0m\u001b[1;33m)\u001b[0m\u001b[1;33m\u001b[0m\u001b[1;33m\u001b[0m\u001b[0m\n\u001b[0m\u001b[0;32m    724\u001b[0m \u001b[1;33m\u001b[0m\u001b[0m\n\u001b[0;32m    725\u001b[0m     \u001b[1;32mdef\u001b[0m \u001b[0m_validate_key\u001b[0m\u001b[1;33m(\u001b[0m\u001b[0mself\u001b[0m\u001b[1;33m,\u001b[0m \u001b[0mkey\u001b[0m\u001b[1;33m,\u001b[0m \u001b[0maxis\u001b[0m\u001b[1;33m:\u001b[0m \u001b[0mint\u001b[0m\u001b[1;33m)\u001b[0m\u001b[1;33m:\u001b[0m\u001b[1;33m\u001b[0m\u001b[1;33m\u001b[0m\u001b[0m\n",
      "\u001b[1;32m~\\anaconda3\\lib\\site-packages\\pandas\\core\\indexing.py\u001b[0m in \u001b[0;36m_setitem_with_indexer\u001b[1;34m(self, indexer, value, name)\u001b[0m\n\u001b[0;32m   1728\u001b[0m         \u001b[1;32mif\u001b[0m \u001b[0mtake_split_path\u001b[0m\u001b[1;33m:\u001b[0m\u001b[1;33m\u001b[0m\u001b[1;33m\u001b[0m\u001b[0m\n\u001b[0;32m   1729\u001b[0m             \u001b[1;31m# We have to operate column-wise\u001b[0m\u001b[1;33m\u001b[0m\u001b[1;33m\u001b[0m\u001b[0m\n\u001b[1;32m-> 1730\u001b[1;33m             \u001b[0mself\u001b[0m\u001b[1;33m.\u001b[0m\u001b[0m_setitem_with_indexer_split_path\u001b[0m\u001b[1;33m(\u001b[0m\u001b[0mindexer\u001b[0m\u001b[1;33m,\u001b[0m \u001b[0mvalue\u001b[0m\u001b[1;33m,\u001b[0m \u001b[0mname\u001b[0m\u001b[1;33m)\u001b[0m\u001b[1;33m\u001b[0m\u001b[1;33m\u001b[0m\u001b[0m\n\u001b[0m\u001b[0;32m   1731\u001b[0m         \u001b[1;32melse\u001b[0m\u001b[1;33m:\u001b[0m\u001b[1;33m\u001b[0m\u001b[1;33m\u001b[0m\u001b[0m\n\u001b[0;32m   1732\u001b[0m             \u001b[0mself\u001b[0m\u001b[1;33m.\u001b[0m\u001b[0m_setitem_single_block\u001b[0m\u001b[1;33m(\u001b[0m\u001b[0mindexer\u001b[0m\u001b[1;33m,\u001b[0m \u001b[0mvalue\u001b[0m\u001b[1;33m,\u001b[0m \u001b[0mname\u001b[0m\u001b[1;33m)\u001b[0m\u001b[1;33m\u001b[0m\u001b[1;33m\u001b[0m\u001b[0m\n",
      "\u001b[1;32m~\\anaconda3\\lib\\site-packages\\pandas\\core\\indexing.py\u001b[0m in \u001b[0;36m_setitem_with_indexer_split_path\u001b[1;34m(self, indexer, value, name)\u001b[0m\n\u001b[0;32m   1815\u001b[0m             \u001b[1;31m# scalar value\u001b[0m\u001b[1;33m\u001b[0m\u001b[1;33m\u001b[0m\u001b[0m\n\u001b[0;32m   1816\u001b[0m             \u001b[1;32mfor\u001b[0m \u001b[0mloc\u001b[0m \u001b[1;32min\u001b[0m \u001b[0milocs\u001b[0m\u001b[1;33m:\u001b[0m\u001b[1;33m\u001b[0m\u001b[1;33m\u001b[0m\u001b[0m\n\u001b[1;32m-> 1817\u001b[1;33m                 \u001b[0mself\u001b[0m\u001b[1;33m.\u001b[0m\u001b[0m_setitem_single_column\u001b[0m\u001b[1;33m(\u001b[0m\u001b[0mloc\u001b[0m\u001b[1;33m,\u001b[0m \u001b[0mvalue\u001b[0m\u001b[1;33m,\u001b[0m \u001b[0mpi\u001b[0m\u001b[1;33m)\u001b[0m\u001b[1;33m\u001b[0m\u001b[1;33m\u001b[0m\u001b[0m\n\u001b[0m\u001b[0;32m   1818\u001b[0m \u001b[1;33m\u001b[0m\u001b[0m\n\u001b[0;32m   1819\u001b[0m     \u001b[1;32mdef\u001b[0m \u001b[0m_setitem_with_indexer_2d_value\u001b[0m\u001b[1;33m(\u001b[0m\u001b[0mself\u001b[0m\u001b[1;33m,\u001b[0m \u001b[0mindexer\u001b[0m\u001b[1;33m,\u001b[0m \u001b[0mvalue\u001b[0m\u001b[1;33m)\u001b[0m\u001b[1;33m:\u001b[0m\u001b[1;33m\u001b[0m\u001b[1;33m\u001b[0m\u001b[0m\n",
      "\u001b[1;32m~\\anaconda3\\lib\\site-packages\\pandas\\core\\indexing.py\u001b[0m in \u001b[0;36m_setitem_single_column\u001b[1;34m(self, loc, value, plane_indexer)\u001b[0m\n\u001b[0;32m   1917\u001b[0m         \u001b[1;32melse\u001b[0m\u001b[1;33m:\u001b[0m\u001b[1;33m\u001b[0m\u001b[1;33m\u001b[0m\u001b[0m\n\u001b[0;32m   1918\u001b[0m             \u001b[1;31m# set the item, possibly having a dtype change\u001b[0m\u001b[1;33m\u001b[0m\u001b[1;33m\u001b[0m\u001b[0m\n\u001b[1;32m-> 1919\u001b[1;33m             \u001b[0mser\u001b[0m \u001b[1;33m=\u001b[0m \u001b[0mser\u001b[0m\u001b[1;33m.\u001b[0m\u001b[0mcopy\u001b[0m\u001b[1;33m(\u001b[0m\u001b[1;33m)\u001b[0m\u001b[1;33m\u001b[0m\u001b[1;33m\u001b[0m\u001b[0m\n\u001b[0m\u001b[0;32m   1920\u001b[0m             \u001b[0mser\u001b[0m\u001b[1;33m.\u001b[0m\u001b[0m_mgr\u001b[0m \u001b[1;33m=\u001b[0m \u001b[0mser\u001b[0m\u001b[1;33m.\u001b[0m\u001b[0m_mgr\u001b[0m\u001b[1;33m.\u001b[0m\u001b[0msetitem\u001b[0m\u001b[1;33m(\u001b[0m\u001b[0mindexer\u001b[0m\u001b[1;33m=\u001b[0m\u001b[1;33m(\u001b[0m\u001b[0mpi\u001b[0m\u001b[1;33m,\u001b[0m\u001b[1;33m)\u001b[0m\u001b[1;33m,\u001b[0m \u001b[0mvalue\u001b[0m\u001b[1;33m=\u001b[0m\u001b[0mvalue\u001b[0m\u001b[1;33m)\u001b[0m\u001b[1;33m\u001b[0m\u001b[1;33m\u001b[0m\u001b[0m\n\u001b[0;32m   1921\u001b[0m             \u001b[0mser\u001b[0m\u001b[1;33m.\u001b[0m\u001b[0m_maybe_update_cacher\u001b[0m\u001b[1;33m(\u001b[0m\u001b[0mclear\u001b[0m\u001b[1;33m=\u001b[0m\u001b[1;32mTrue\u001b[0m\u001b[1;33m)\u001b[0m\u001b[1;33m\u001b[0m\u001b[1;33m\u001b[0m\u001b[0m\n",
      "\u001b[1;32m~\\anaconda3\\lib\\site-packages\\pandas\\core\\generic.py\u001b[0m in \u001b[0;36mcopy\u001b[1;34m(self, deep)\u001b[0m\n\u001b[0;32m   5931\u001b[0m         \u001b[0mdtype\u001b[0m\u001b[1;33m:\u001b[0m \u001b[0mobject\u001b[0m\u001b[1;33m\u001b[0m\u001b[1;33m\u001b[0m\u001b[0m\n\u001b[0;32m   5932\u001b[0m         \"\"\"\n\u001b[1;32m-> 5933\u001b[1;33m         \u001b[0mdata\u001b[0m \u001b[1;33m=\u001b[0m \u001b[0mself\u001b[0m\u001b[1;33m.\u001b[0m\u001b[0m_mgr\u001b[0m\u001b[1;33m.\u001b[0m\u001b[0mcopy\u001b[0m\u001b[1;33m(\u001b[0m\u001b[0mdeep\u001b[0m\u001b[1;33m=\u001b[0m\u001b[0mdeep\u001b[0m\u001b[1;33m)\u001b[0m\u001b[1;33m\u001b[0m\u001b[1;33m\u001b[0m\u001b[0m\n\u001b[0m\u001b[0;32m   5934\u001b[0m         \u001b[0mself\u001b[0m\u001b[1;33m.\u001b[0m\u001b[0m_clear_item_cache\u001b[0m\u001b[1;33m(\u001b[0m\u001b[1;33m)\u001b[0m\u001b[1;33m\u001b[0m\u001b[1;33m\u001b[0m\u001b[0m\n\u001b[0;32m   5935\u001b[0m         \u001b[1;32mreturn\u001b[0m \u001b[0mself\u001b[0m\u001b[1;33m.\u001b[0m\u001b[0m_constructor\u001b[0m\u001b[1;33m(\u001b[0m\u001b[0mdata\u001b[0m\u001b[1;33m)\u001b[0m\u001b[1;33m.\u001b[0m\u001b[0m__finalize__\u001b[0m\u001b[1;33m(\u001b[0m\u001b[0mself\u001b[0m\u001b[1;33m,\u001b[0m \u001b[0mmethod\u001b[0m\u001b[1;33m=\u001b[0m\u001b[1;34m\"copy\"\u001b[0m\u001b[1;33m)\u001b[0m\u001b[1;33m\u001b[0m\u001b[1;33m\u001b[0m\u001b[0m\n",
      "\u001b[1;32m~\\anaconda3\\lib\\site-packages\\pandas\\core\\internals\\managers.py\u001b[0m in \u001b[0;36mcopy\u001b[1;34m(self, deep)\u001b[0m\n\u001b[0;32m    597\u001b[0m             \u001b[0mnew_axes\u001b[0m \u001b[1;33m=\u001b[0m \u001b[0mlist\u001b[0m\u001b[1;33m(\u001b[0m\u001b[0mself\u001b[0m\u001b[1;33m.\u001b[0m\u001b[0maxes\u001b[0m\u001b[1;33m)\u001b[0m\u001b[1;33m\u001b[0m\u001b[1;33m\u001b[0m\u001b[0m\n\u001b[0;32m    598\u001b[0m \u001b[1;33m\u001b[0m\u001b[0m\n\u001b[1;32m--> 599\u001b[1;33m         \u001b[0mres\u001b[0m \u001b[1;33m=\u001b[0m \u001b[0mself\u001b[0m\u001b[1;33m.\u001b[0m\u001b[0mapply\u001b[0m\u001b[1;33m(\u001b[0m\u001b[1;34m\"copy\"\u001b[0m\u001b[1;33m,\u001b[0m \u001b[0mdeep\u001b[0m\u001b[1;33m=\u001b[0m\u001b[0mdeep\u001b[0m\u001b[1;33m)\u001b[0m\u001b[1;33m\u001b[0m\u001b[1;33m\u001b[0m\u001b[0m\n\u001b[0m\u001b[0;32m    600\u001b[0m         \u001b[0mres\u001b[0m\u001b[1;33m.\u001b[0m\u001b[0maxes\u001b[0m \u001b[1;33m=\u001b[0m \u001b[0mnew_axes\u001b[0m\u001b[1;33m\u001b[0m\u001b[1;33m\u001b[0m\u001b[0m\n\u001b[0;32m    601\u001b[0m \u001b[1;33m\u001b[0m\u001b[0m\n",
      "\u001b[1;32m~\\anaconda3\\lib\\site-packages\\pandas\\core\\internals\\managers.py\u001b[0m in \u001b[0;36mapply\u001b[1;34m(self, f, align_keys, ignore_failures, **kwargs)\u001b[0m\n\u001b[0;32m    325\u001b[0m                     \u001b[0mapplied\u001b[0m \u001b[1;33m=\u001b[0m \u001b[0mb\u001b[0m\u001b[1;33m.\u001b[0m\u001b[0mapply\u001b[0m\u001b[1;33m(\u001b[0m\u001b[0mf\u001b[0m\u001b[1;33m,\u001b[0m \u001b[1;33m**\u001b[0m\u001b[0mkwargs\u001b[0m\u001b[1;33m)\u001b[0m\u001b[1;33m\u001b[0m\u001b[1;33m\u001b[0m\u001b[0m\n\u001b[0;32m    326\u001b[0m                 \u001b[1;32melse\u001b[0m\u001b[1;33m:\u001b[0m\u001b[1;33m\u001b[0m\u001b[1;33m\u001b[0m\u001b[0m\n\u001b[1;32m--> 327\u001b[1;33m                     \u001b[0mapplied\u001b[0m \u001b[1;33m=\u001b[0m \u001b[0mgetattr\u001b[0m\u001b[1;33m(\u001b[0m\u001b[0mb\u001b[0m\u001b[1;33m,\u001b[0m \u001b[0mf\u001b[0m\u001b[1;33m)\u001b[0m\u001b[1;33m(\u001b[0m\u001b[1;33m**\u001b[0m\u001b[0mkwargs\u001b[0m\u001b[1;33m)\u001b[0m\u001b[1;33m\u001b[0m\u001b[1;33m\u001b[0m\u001b[0m\n\u001b[0m\u001b[0;32m    328\u001b[0m             \u001b[1;32mexcept\u001b[0m \u001b[1;33m(\u001b[0m\u001b[0mTypeError\u001b[0m\u001b[1;33m,\u001b[0m \u001b[0mNotImplementedError\u001b[0m\u001b[1;33m)\u001b[0m\u001b[1;33m:\u001b[0m\u001b[1;33m\u001b[0m\u001b[1;33m\u001b[0m\u001b[0m\n\u001b[0;32m    329\u001b[0m                 \u001b[1;32mif\u001b[0m \u001b[1;32mnot\u001b[0m \u001b[0mignore_failures\u001b[0m\u001b[1;33m:\u001b[0m\u001b[1;33m\u001b[0m\u001b[1;33m\u001b[0m\u001b[0m\n",
      "\u001b[1;32m~\\anaconda3\\lib\\site-packages\\pandas\\core\\internals\\blocks.py\u001b[0m in \u001b[0;36mcopy\u001b[1;34m(self, deep)\u001b[0m\n\u001b[0;32m    648\u001b[0m         \u001b[0mvalues\u001b[0m \u001b[1;33m=\u001b[0m \u001b[0mself\u001b[0m\u001b[1;33m.\u001b[0m\u001b[0mvalues\u001b[0m\u001b[1;33m\u001b[0m\u001b[1;33m\u001b[0m\u001b[0m\n\u001b[0;32m    649\u001b[0m         \u001b[1;32mif\u001b[0m \u001b[0mdeep\u001b[0m\u001b[1;33m:\u001b[0m\u001b[1;33m\u001b[0m\u001b[1;33m\u001b[0m\u001b[0m\n\u001b[1;32m--> 650\u001b[1;33m             \u001b[0mvalues\u001b[0m \u001b[1;33m=\u001b[0m \u001b[0mvalues\u001b[0m\u001b[1;33m.\u001b[0m\u001b[0mcopy\u001b[0m\u001b[1;33m(\u001b[0m\u001b[1;33m)\u001b[0m\u001b[1;33m\u001b[0m\u001b[1;33m\u001b[0m\u001b[0m\n\u001b[0m\u001b[0;32m    651\u001b[0m         \u001b[1;32mreturn\u001b[0m \u001b[0mself\u001b[0m\u001b[1;33m.\u001b[0m\u001b[0mmake_block_same_class\u001b[0m\u001b[1;33m(\u001b[0m\u001b[0mvalues\u001b[0m\u001b[1;33m)\u001b[0m\u001b[1;33m\u001b[0m\u001b[1;33m\u001b[0m\u001b[0m\n\u001b[0;32m    652\u001b[0m \u001b[1;33m\u001b[0m\u001b[0m\n",
      "\u001b[1;31mKeyboardInterrupt\u001b[0m: "
     ]
    }
   ],
   "source": [
    "# Distribution of v3_2 #\n",
    "\n",
    "datamap_b['PhotoIncluded'] = 0\n",
    "\n",
    "for i, row in datamap_b.iterrows():\n",
    "    if row['File Name'] in data_b:\n",
    "        datamap_b.loc[i,['PhotoIncluded']]= 1"
   ]
  },
  {
   "cell_type": "code",
   "execution_count": 6,
   "id": "87271a2e-eb3a-4524-9ad2-6a6f1df3badb",
   "metadata": {},
   "outputs": [
    {
     "data": {
      "text/plain": [
       "File Name                         Class  label  PhotoIncluded\n",
       "ESP_012494_2050_RED-0052-fv.jpg   1      train  1                3\n",
       "ESP_012494_2050_RED-0132-r90.jpg  1      train  1                3\n",
       "ESP_012494_2050_RED-0164-brt.jpg  5      train  1                3\n",
       "ESP_012494_2050_RED-0164-fv.jpg   5      train  1                3\n",
       "ESP_012494_2050_RED-0116-brt.jpg  1      train  1                3\n",
       "                                                                ..\n",
       "ESP_018192_1985_RED-0067.jpg      0      test   1                1\n",
       "ESP_018192_1985_RED-0064.jpg      0      test   1                1\n",
       "ESP_018192_1985_RED-0061.jpg      0      test   1                1\n",
       "ESP_018192_1985_RED-0039.jpg      0      test   1                1\n",
       "TRA_000828_1805_RED-0127.jpg      0      train  1                1\n",
       "Length: 32182, dtype: int64"
      ]
     },
     "execution_count": 6,
     "metadata": {},
     "output_type": "execute_result"
    }
   ],
   "source": [
    "datamap_b[datamap_b['PhotoIncluded']==1].value_counts()"
   ]
  },
  {
   "cell_type": "code",
   "execution_count": 7,
   "id": "49921520-c659-455a-ac97-04a37e43a88e",
   "metadata": {},
   "outputs": [
    {
     "name": "stdout",
     "output_type": "stream",
     "text": [
      "(67810, 4)\n",
      "Class 7: (1568, 4) 0.023123433121958414\n",
      "Class 1: (5857, 4) 0.0863736911959888\n",
      "Class 5: (777, 4) 0.011458486948827607\n",
      "Class 2: (857, 4) 0.012638253944845893\n",
      "Class 3: (1603, 4) 0.023639581182716415\n",
      "Class 6: (2772, 4) 0.040878926412033625\n",
      "Class 0: (52722, 4) 0.7774959445509512\n",
      "Class 4: (1654, 4) 0.024391682642678072\n"
     ]
    }
   ],
   "source": [
    "# Total DISTRIBUTION\n",
    "\n",
    "classes = list(datamap_b['Class'].unique())\n",
    "total = datamap_b.shape\n",
    "print(total)\n",
    "for cl in classes:\n",
    "    print(f\"Class {cl}:\", datamap_b[datamap_b['Class']==cl].shape, datamap_b[datamap_b['Class']==cl].shape[0]/total[0])"
   ]
  },
  {
   "cell_type": "code",
   "execution_count": 8,
   "id": "0047bd2c-d148-4bef-8f43-20357d4fe90e",
   "metadata": {},
   "outputs": [
    {
     "name": "stdout",
     "output_type": "stream",
     "text": [
      "(33630, 4)\n",
      "Class 7: (787, 4) 0.023401724650609575\n",
      "Class 1: (2855, 4) 0.08489443948855188\n",
      "Class 5: (392, 4) 0.011656259292298543\n",
      "Class 2: (430, 4) 0.012786202795123401\n",
      "Class 3: (790, 4) 0.023490930716622064\n",
      "Class 6: (1372, 4) 0.0407969075230449\n",
      "Class 0: (26171, 4) 0.7782039845376152\n",
      "Class 4: (833, 4) 0.024769550996134405\n"
     ]
    }
   ],
   "source": [
    "# DISTRIBUTION OF INCLUDED FILES\n",
    "\n",
    "classes = list(datamap_b['Class'].unique())\n",
    "sub_datamap_b = datamap_b[datamap_b['PhotoIncluded']==1]\n",
    "total = sub_datamap_b.shape\n",
    "print(total)\n",
    "for cl in classes:\n",
    "    print(f\"Class {cl}:\", sub_datamap_b[sub_datamap_b['Class']==cl].shape, sub_datamap_b[sub_datamap_b['Class']==cl].shape[0]/total[0])"
   ]
  },
  {
   "cell_type": "markdown",
   "id": "86da319b-0ea3-4d1d-98aa-03c7286a9aae",
   "metadata": {},
   "source": [
    "So it looks like v3_2 has the files we will want to work with.  We have 7 classes but the majority skews towards class 0.\n",
    "\n",
    "DECISION: USE FILES from v3_2"
   ]
  },
  {
   "cell_type": "code",
   "execution_count": 21,
   "id": "718c97b5-ffc8-4415-96be-fc1a1f26ebf2",
   "metadata": {},
   "outputs": [],
   "source": [
    "####################\n",
    "# HELPER FUNCTIONS #\n",
    "####################\n",
    "\n",
    "\n",
    "\n",
    "# Get filenames\n",
    "\n",
    "ROOT_FOLDER = r\"C:\\Users\\cdcro\\Documents\\GT\\Project\\Mars\\hirise-map-proj-v3_2\\hirise-map-proj-v3_2\\map-proj-v3_2\" # Tested in Initial Data Review\n",
    "DATA_MAP = r\"C:\\Users\\cdcro\\Documents\\GT\\Project\\Mars\\hirise-map-proj-v3_2\\hirise-map-proj-v3_2\\labels-map-proj_v3_2_train_val_test.txt\" # Tested in Initial Data Review\n",
    "\n",
    "def get_filenames(filepath=ROOT_FOLDER):\n",
    "    return os.listdir(filepath)\n",
    "    \n",
    "def get_datamap(filepath=DATA_MAP):\n",
    "    datamap = pd.read_csv(filepath, delimiter=\" \", header=None)\n",
    "    datamap = datamap.rename(columns = {0: \"File Name\", 1: \"Class\", 2: \"label\"})\n",
    "    return datamap\n",
    "\n",
    "def datamap_setup(datamap, filenames):\n",
    "    datamap['PhotoIncluded'] = 0\n",
    "\n",
    "    for i, row in datamap.iterrows():\n",
    "        if row['File Name'] in filenames:\n",
    "            datamap.loc[i,['PhotoIncluded']]= 1\n",
    "    \n",
    "    return datamap\n",
    "\n",
    "def initial_setup(filenames_path=ROOT_FOLDER, datamap_path=DATA_MAP):\n",
    "    filenames = get_filenames(filenames_path)\n",
    "    datamap = get_datamap(datamap_path)\n",
    "    datamap = datamap_setup(datamap, filenames)\n",
    "    return filenames, datamap"
   ]
  },
  {
   "cell_type": "code",
   "execution_count": 22,
   "id": "8a065b32-edf7-477d-945d-f93755e1b917",
   "metadata": {},
   "outputs": [],
   "source": [
    "filenames = get_filenames(ROOT_FOLDER)\n",
    "datamap = get_datamap(DATA_MAP)\n",
    "datamap = datamap_setup(datamap, filenames)"
   ]
  },
  {
   "cell_type": "code",
   "execution_count": 23,
   "id": "89d29313-8e61-4ec9-a06d-9a4b057bd9b7",
   "metadata": {},
   "outputs": [],
   "source": [
    "filenames, datamap = initial_setup(ROOT_FOLDER, DATA_MAP)"
   ]
  },
  {
   "cell_type": "code",
   "execution_count": null,
   "id": "df315110-4cf1-441a-ab4b-26a1527146c9",
   "metadata": {},
   "outputs": [],
   "source": []
  }
 ],
 "metadata": {
  "kernelspec": {
   "display_name": "Python 3 (ipykernel)",
   "language": "python",
   "name": "python3"
  },
  "language_info": {
   "codemirror_mode": {
    "name": "ipython",
    "version": 3
   },
   "file_extension": ".py",
   "mimetype": "text/x-python",
   "name": "python",
   "nbconvert_exporter": "python",
   "pygments_lexer": "ipython3",
   "version": "3.9.7"
  }
 },
 "nbformat": 4,
 "nbformat_minor": 5
}
