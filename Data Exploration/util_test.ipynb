{
 "cells": [
  {
   "cell_type": "code",
   "execution_count": 4,
   "id": "89d5c01f-f72b-42e0-871d-2ee3e1884df4",
   "metadata": {},
   "outputs": [],
   "source": [
    "import numpy as np\n",
    "import pandas as pd\n",
    "from PIL import Image\n",
    "import matplotlib.pyplot as plt\n",
    "%matplotlib inline\n",
    "import os.path\n",
    "import util"
   ]
  },
  {
   "cell_type": "code",
   "execution_count": 5,
   "id": "f71dd274-f99a-47c1-a287-d6491cf793ce",
   "metadata": {},
   "outputs": [],
   "source": [
    "####################\n",
    "# GLOBAL VARIABLES #\n",
    "####################\n",
    "\n",
    "ROOT_FOLDER = r\"C:\\Users\\cdcro\\Documents\\GT\\Project\\Mars\\hirise-map-proj-v3_2\\hirise-map-proj-v3_2\\map-proj-v3_2\" # Tested in Initial Data Review\n",
    "DATA_MAP = r\"C:\\Users\\cdcro\\Documents\\GT\\Project\\Mars\\hirise-map-proj-v3_2\\hirise-map-proj-v3_2\\labels-map-proj_v3_2_train_val_test.txt\" # Tested in Initial Data Review"
   ]
  },
  {
   "cell_type": "code",
   "execution_count": 6,
   "id": "d34ba27c-aad5-45cc-807c-36374f78fb67",
   "metadata": {},
   "outputs": [],
   "source": [
    "ROOT_FOLDER = util.ROOT_FOLDER\n",
    "\n",
    "filenames, datamap = util.initial_setup()"
   ]
  },
  {
   "cell_type": "code",
   "execution_count": 14,
   "id": "7e4bb02d-b401-42b9-87ae-31add8ce2192",
   "metadata": {},
   "outputs": [
    {
     "name": "stdout",
     "output_type": "stream",
     "text": [
      "(67810, 4) (33630, 4)\n"
     ]
    }
   ],
   "source": [
    "datamap_reduced = datamap[datamap[\"PhotoIncluded\"]==1]\n",
    "print(datamap.shape, datamap_reduced.shape)"
   ]
  },
  {
   "cell_type": "code",
   "execution_count": 16,
   "id": "9c0f226a-43dc-43ab-b043-001c190b9f3b",
   "metadata": {},
   "outputs": [
    {
     "data": {
      "text/html": [
       "<div>\n",
       "<style scoped>\n",
       "    .dataframe tbody tr th:only-of-type {\n",
       "        vertical-align: middle;\n",
       "    }\n",
       "\n",
       "    .dataframe tbody tr th {\n",
       "        vertical-align: top;\n",
       "    }\n",
       "\n",
       "    .dataframe thead th {\n",
       "        text-align: right;\n",
       "    }\n",
       "</style>\n",
       "<table border=\"1\" class=\"dataframe\">\n",
       "  <thead>\n",
       "    <tr style=\"text-align: right;\">\n",
       "      <th></th>\n",
       "      <th>File Name</th>\n",
       "      <th>Class</th>\n",
       "      <th>label</th>\n",
       "      <th>PhotoIncluded</th>\n",
       "    </tr>\n",
       "  </thead>\n",
       "  <tbody>\n",
       "    <tr>\n",
       "      <th>0</th>\n",
       "      <td>ESP_013049_0950_RED-0067.jpg</td>\n",
       "      <td>7</td>\n",
       "      <td>train</td>\n",
       "      <td>1</td>\n",
       "    </tr>\n",
       "    <tr>\n",
       "      <th>1</th>\n",
       "      <td>ESP_013049_0950_RED-0067-fv.jpg</td>\n",
       "      <td>7</td>\n",
       "      <td>train</td>\n",
       "      <td>1</td>\n",
       "    </tr>\n",
       "    <tr>\n",
       "      <th>2</th>\n",
       "      <td>ESP_013049_0950_RED-0067-brt.jpg</td>\n",
       "      <td>7</td>\n",
       "      <td>train</td>\n",
       "      <td>1</td>\n",
       "    </tr>\n",
       "    <tr>\n",
       "      <th>3</th>\n",
       "      <td>ESP_013049_0950_RED-0067-r90.jpg</td>\n",
       "      <td>7</td>\n",
       "      <td>train</td>\n",
       "      <td>1</td>\n",
       "    </tr>\n",
       "    <tr>\n",
       "      <th>5</th>\n",
       "      <td>ESP_013049_0950_RED-0067-r270.jpg</td>\n",
       "      <td>7</td>\n",
       "      <td>train</td>\n",
       "      <td>1</td>\n",
       "    </tr>\n",
       "    <tr>\n",
       "      <th>...</th>\n",
       "      <td>...</td>\n",
       "      <td>...</td>\n",
       "      <td>...</td>\n",
       "      <td>...</td>\n",
       "    </tr>\n",
       "    <tr>\n",
       "      <th>67802</th>\n",
       "      <td>ESP_018707_2205_RED-0034.jpg</td>\n",
       "      <td>0</td>\n",
       "      <td>test</td>\n",
       "      <td>1</td>\n",
       "    </tr>\n",
       "    <tr>\n",
       "      <th>67803</th>\n",
       "      <td>ESP_018707_2205_RED-0019.jpg</td>\n",
       "      <td>0</td>\n",
       "      <td>test</td>\n",
       "      <td>1</td>\n",
       "    </tr>\n",
       "    <tr>\n",
       "      <th>67804</th>\n",
       "      <td>ESP_018707_2205_RED-0032.jpg</td>\n",
       "      <td>0</td>\n",
       "      <td>test</td>\n",
       "      <td>1</td>\n",
       "    </tr>\n",
       "    <tr>\n",
       "      <th>67805</th>\n",
       "      <td>ESP_018707_2205_RED-0041.jpg</td>\n",
       "      <td>0</td>\n",
       "      <td>test</td>\n",
       "      <td>1</td>\n",
       "    </tr>\n",
       "    <tr>\n",
       "      <th>67809</th>\n",
       "      <td>ESP_018707_2205_RED-0051.jpg</td>\n",
       "      <td>0</td>\n",
       "      <td>test</td>\n",
       "      <td>1</td>\n",
       "    </tr>\n",
       "  </tbody>\n",
       "</table>\n",
       "<p>33630 rows × 4 columns</p>\n",
       "</div>"
      ],
      "text/plain": [
       "                               File Name  Class  label  PhotoIncluded\n",
       "0           ESP_013049_0950_RED-0067.jpg      7  train              1\n",
       "1        ESP_013049_0950_RED-0067-fv.jpg      7  train              1\n",
       "2       ESP_013049_0950_RED-0067-brt.jpg      7  train              1\n",
       "3       ESP_013049_0950_RED-0067-r90.jpg      7  train              1\n",
       "5      ESP_013049_0950_RED-0067-r270.jpg      7  train              1\n",
       "...                                  ...    ...    ...            ...\n",
       "67802       ESP_018707_2205_RED-0034.jpg      0   test              1\n",
       "67803       ESP_018707_2205_RED-0019.jpg      0   test              1\n",
       "67804       ESP_018707_2205_RED-0032.jpg      0   test              1\n",
       "67805       ESP_018707_2205_RED-0041.jpg      0   test              1\n",
       "67809       ESP_018707_2205_RED-0051.jpg      0   test              1\n",
       "\n",
       "[33630 rows x 4 columns]"
      ]
     },
     "execution_count": 16,
     "metadata": {},
     "output_type": "execute_result"
    }
   ],
   "source": [
    "datamap_reduced"
   ]
  },
  {
   "cell_type": "code",
   "execution_count": null,
   "id": "8ebfaf7a-5179-4246-9c4d-aa03292f06b8",
   "metadata": {},
   "outputs": [],
   "source": []
  }
 ],
 "metadata": {
  "kernelspec": {
   "display_name": "Python 3 (ipykernel)",
   "language": "python",
   "name": "python3"
  },
  "language_info": {
   "codemirror_mode": {
    "name": "ipython",
    "version": 3
   },
   "file_extension": ".py",
   "mimetype": "text/x-python",
   "name": "python",
   "nbconvert_exporter": "python",
   "pygments_lexer": "ipython3",
   "version": "3.9.7"
  }
 },
 "nbformat": 4,
 "nbformat_minor": 5
}
